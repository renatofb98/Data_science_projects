{
 "cells": [
  {
   "cell_type": "markdown",
   "id": "d61f79fb-e41e-49a2-b731-ef23f4d3a33c",
   "metadata": {},
   "source": [
    "# Data Science Tools and Ecosystem"
   ]
  },
  {
   "cell_type": "markdown",
   "id": "095c8da5-1d69-4716-b0c1-9cfd8943ea4d",
   "metadata": {},
   "source": [
    "## In this notebook, Data Science Tools and Ecosystem are summarized."
   ]
  },
  {
   "cell_type": "markdown",
   "id": "3f70ab67-347d-44f9-8d63-d98e2e801788",
   "metadata": {},
   "source": [
    "## Some of the popular languages that Data Scientists use are:\n",
    "### 1 - Python\n",
    "### 2 - SQL\n",
    "### 3 - R"
   ]
  },
  {
   "cell_type": "markdown",
   "id": "4d7752ef-2ca0-4ca4-8e1c-04ecfa61d264",
   "metadata": {},
   "source": [
    "## Some of the commonly used libraries used by Data Scientists include:\n",
    "### 1 - Pandas\n",
    "### 2 - Matplotlib\n",
    "### 3 - Numpy"
   ]
  },
  {
   "cell_type": "markdown",
   "id": "08edf2a4-447c-4420-8f39-5f15ea4176bb",
   "metadata": {},
   "source": [
    "| Data Science Tools |\n",
    "|---|\n",
    "| Jupyter Notebooks |\n",
    "| RStudio |\n",
    "| Apache Zeppelin |"
   ]
  },
  {
   "cell_type": "markdown",
   "id": "f4900052-0428-41d7-9366-0fb01a5a9183",
   "metadata": {},
   "source": [
    "### Below are a few examples of evaluating arithmetic expressions in Python."
   ]
  },
  {
   "cell_type": "markdown",
   "id": "10219f7c-6a16-4318-9702-a5dcf56916d0",
   "metadata": {},
   "source": [
    "### This a simple arithmetic expression to mutiply then add integers"
   ]
  },
  {
   "cell_type": "code",
   "execution_count": 2,
   "id": "9c71fc37-ac63-4b47-b0c9-f0afc8dd19b6",
   "metadata": {},
   "outputs": [
    {
     "data": {
      "text/plain": [
       "2057"
      ]
     },
     "execution_count": 2,
     "metadata": {},
     "output_type": "execute_result"
    }
   ],
   "source": [
    "(35*58)+27"
   ]
  },
  {
   "cell_type": "markdown",
   "id": "bf3cdda1-510e-409e-8194-687923c11274",
   "metadata": {},
   "source": [
    "### This will convert 56752 minutes to hours by diving by 60"
   ]
  },
  {
   "cell_type": "code",
   "execution_count": 3,
   "id": "70acb39f-bf4d-4b1e-ad7b-a1e81d9313e9",
   "metadata": {},
   "outputs": [
    {
     "data": {
      "text/plain": [
       "945.8666666666667"
      ]
     },
     "execution_count": 3,
     "metadata": {},
     "output_type": "execute_result"
    }
   ],
   "source": [
    "56752/60"
   ]
  },
  {
   "cell_type": "markdown",
   "id": "f163a46a-fcb2-422f-af2d-a37e61a13aad",
   "metadata": {},
   "source": [
    "## Objectives:\n",
    "### 1 - list popular languages\n",
    "### 2 - list popular libraries\n",
    "### 3 - list popular tools\n",
    "### 4 - write arithmetic expressions"
   ]
  },
  {
   "cell_type": "markdown",
   "id": "a8ea539d-4c12-4eeb-8e1e-5697758d0c19",
   "metadata": {},
   "source": [
    "## Author:\n",
    "\n",
    "### Renato Fernandes Borges"
   ]
  },
  {
   "cell_type": "code",
   "execution_count": null,
   "id": "5a518bb0-6715-421c-be38-d8df6bfad7a6",
   "metadata": {},
   "outputs": [],
   "source": []
  }
 ],
 "metadata": {
  "kernelspec": {
   "display_name": "Python 3 (ipykernel)",
   "language": "python",
   "name": "python3"
  },
  "language_info": {
   "codemirror_mode": {
    "name": "ipython",
    "version": 3
   },
   "file_extension": ".py",
   "mimetype": "text/x-python",
   "name": "python",
   "nbconvert_exporter": "python",
   "pygments_lexer": "ipython3",
   "version": "3.12.7"
  }
 },
 "nbformat": 4,
 "nbformat_minor": 5
}
